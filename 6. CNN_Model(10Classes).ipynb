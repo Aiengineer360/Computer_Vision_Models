{
  "cells": [
    {
      "cell_type": "markdown",
      "source": [
        "##Importing Libraries"
      ],
      "metadata": {
        "id": "UxMF1VX_kkjK"
      }
    },
    {
      "cell_type": "code",
      "execution_count": null,
      "metadata": {
        "id": "ZDcL2rpDlifV"
      },
      "outputs": [],
      "source": [
        "import os\n",
        "import numpy as np\n",
        "import pandas as pd\n",
        "from PIL import Image\n",
        "from sklearn.model_selection import train_test_split\n",
        "from sklearn.preprocessing import LabelEncoder\n",
        "from keras.models import Sequential\n",
        "from keras.layers import Dense, Conv2D, MaxPooling2D, Flatten, Dropout, BatchNormalizationtrain_dir = 'train'\n",
        "from keras.utils import to_categorical"
      ]
    },
    {
      "cell_type": "markdown",
      "source": [
        "## Loading and Preprocessing Dataset"
      ],
      "metadata": {
        "id": "3T3-_Xgpk7dt"
      }
    },
    {
      "cell_type": "code",
      "source": [
        "train_dir = 'train'"
      ],
      "metadata": {
        "id": "rzTKEi3_k2Bg"
      },
      "execution_count": null,
      "outputs": []
    },
    {
      "cell_type": "code",
      "execution_count": null,
      "metadata": {
        "id": "x4cfEYP7life"
      },
      "outputs": [],
      "source": [
        "def load_dataset(train_dir):\n",
        "    images = []\n",
        "    labels = []\n",
        "    label_names = sorted(os.listdir(train_dir))\n",
        "\n",
        "    for label in label_names:\n",
        "        label_dir = os.path.join(train_dir, label)\n",
        "        if os.path.isdir(label_dir):\n",
        "            for filename in os.listdir(label_dir):\n",
        "                if filename.endswith('.png') or filename.endswith('.jpg'):\n",
        "                    image_path = os.path.join(label_dir, filename)\n",
        "                    image = Image.open(image_path).convert('RGB')\n",
        "                    image = image.resize((32, 32))  # Resize image to target size\n",
        "                    images.append(np.array(image))\n",
        "                    labels.append(label)\n",
        "\n",
        "    images = np.array(images)\n",
        "    labels = np.array(labels)\n",
        "\n",
        "    return images, labels"
      ]
    },
    {
      "cell_type": "code",
      "execution_count": null,
      "metadata": {
        "id": "xA5HFZ1Klifh"
      },
      "outputs": [],
      "source": [
        "images, labels = load_dataset(train_dir)"
      ]
    },
    {
      "cell_type": "code",
      "execution_count": null,
      "metadata": {
        "id": "FB3K8kHblifj"
      },
      "outputs": [],
      "source": [
        "# Encode the labels\n",
        "label_encoder = LabelEncoder()\n",
        "labels_encoded = label_encoder.fit_transform(labels)"
      ]
    },
    {
      "cell_type": "code",
      "execution_count": null,
      "metadata": {
        "id": "AwkQ4oJBlifl"
      },
      "outputs": [],
      "source": [
        "# Split the dataset into training and validation sets (80% training, 20% validation)\n",
        "X_train, X_validation, y_train, y_validation = train_test_split(images, labels_encoded, test_size=0.2, random_state=42)"
      ]
    },
    {
      "cell_type": "code",
      "execution_count": null,
      "metadata": {
        "id": "fZrSMOjslifm"
      },
      "outputs": [],
      "source": [
        "# Calculate mean pixel value of the training set\n",
        "mean_value = np.mean(X_train, axis=(0, 1, 2))"
      ]
    },
    {
      "cell_type": "code",
      "execution_count": null,
      "metadata": {
        "id": "ZVVU7Xmdlifn"
      },
      "outputs": [],
      "source": [
        "# Normalize the datasets by subtracting the mean\n",
        "X_train = X_train - mean_value\n",
        "X_validation = X_validation - mean_value"
      ]
    },
    {
      "cell_type": "code",
      "execution_count": null,
      "metadata": {
        "id": "TLXvOjHjlifo"
      },
      "outputs": [],
      "source": [
        "# Number of classes\n",
        "num_classes = len(np.unique(labels_encoded))"
      ]
    },
    {
      "cell_type": "code",
      "execution_count": null,
      "metadata": {
        "id": "pRDOSiJGlifp",
        "outputId": "d8692b59-3371-48d7-b1c0-d252f8aec6da"
      },
      "outputs": [
        {
          "data": {
            "text/plain": [
              "10"
            ]
          },
          "execution_count": 10,
          "metadata": {},
          "output_type": "execute_result"
        }
      ],
      "source": [
        "num_classes"
      ]
    },
    {
      "cell_type": "markdown",
      "source": [
        "##One-Hot Encoding"
      ],
      "metadata": {
        "id": "jAQu3ykFlRMk"
      }
    },
    {
      "cell_type": "code",
      "execution_count": null,
      "metadata": {
        "id": "jMnus9dzlifq"
      },
      "outputs": [],
      "source": [
        "# One-hot encode the targets\n",
        "y_train = to_categorical(y_train, num_classes)\n",
        "y_validation = to_categorical(y_validation, num_classes)"
      ]
    },
    {
      "cell_type": "markdown",
      "source": [
        "## CNN Architecture"
      ],
      "metadata": {
        "id": "khXr2IaTlW_D"
      }
    },
    {
      "cell_type": "code",
      "execution_count": null,
      "metadata": {
        "id": "O9-m0bullifr",
        "outputId": "27a3224e-d05e-40ad-8dbd-272b52b3e7a2"
      },
      "outputs": [
        {
          "name": "stdout",
          "output_type": "stream",
          "text": [
            "Model: \"sequential\"\n",
            "_________________________________________________________________\n",
            " Layer (type)                Output Shape              Param #   \n",
            "=================================================================\n",
            " conv2d (Conv2D)             (None, 32, 32, 32)        896       \n",
            "                                                                 \n",
            " batch_normalization (BatchN  (None, 32, 32, 32)       128       \n",
            " ormalization)                                                   \n",
            "                                                                 \n",
            " conv2d_1 (Conv2D)           (None, 32, 32, 32)        9248      \n",
            "                                                                 \n",
            " batch_normalization_1 (Batc  (None, 32, 32, 32)       128       \n",
            " hNormalization)                                                 \n",
            "                                                                 \n",
            " max_pooling2d (MaxPooling2D  (None, 16, 16, 32)       0         \n",
            " )                                                               \n",
            "                                                                 \n",
            " dropout (Dropout)           (None, 16, 16, 32)        0         \n",
            "                                                                 \n",
            " conv2d_2 (Conv2D)           (None, 16, 16, 64)        18496     \n",
            "                                                                 \n",
            " batch_normalization_2 (Batc  (None, 16, 16, 64)       256       \n",
            " hNormalization)                                                 \n",
            "                                                                 \n",
            " conv2d_3 (Conv2D)           (None, 16, 16, 64)        36928     \n",
            "                                                                 \n",
            " batch_normalization_3 (Batc  (None, 16, 16, 64)       256       \n",
            " hNormalization)                                                 \n",
            "                                                                 \n",
            " max_pooling2d_1 (MaxPooling  (None, 8, 8, 64)         0         \n",
            " 2D)                                                             \n",
            "                                                                 \n",
            " dropout_1 (Dropout)         (None, 8, 8, 64)          0         \n",
            "                                                                 \n",
            " conv2d_4 (Conv2D)           (None, 8, 8, 128)         73856     \n",
            "                                                                 \n",
            " batch_normalization_4 (Batc  (None, 8, 8, 128)        512       \n",
            " hNormalization)                                                 \n",
            "                                                                 \n",
            " conv2d_5 (Conv2D)           (None, 8, 8, 128)         147584    \n",
            "                                                                 \n",
            " batch_normalization_5 (Batc  (None, 8, 8, 128)        512       \n",
            " hNormalization)                                                 \n",
            "                                                                 \n",
            " max_pooling2d_2 (MaxPooling  (None, 4, 4, 128)        0         \n",
            " 2D)                                                             \n",
            "                                                                 \n",
            " dropout_2 (Dropout)         (None, 4, 4, 128)         0         \n",
            "                                                                 \n",
            " flatten (Flatten)           (None, 2048)              0         \n",
            "                                                                 \n",
            " dense (Dense)               (None, 128)               262272    \n",
            "                                                                 \n",
            " batch_normalization_6 (Batc  (None, 128)              512       \n",
            " hNormalization)                                                 \n",
            "                                                                 \n",
            " dropout_3 (Dropout)         (None, 128)               0         \n",
            "                                                                 \n",
            " dense_1 (Dense)             (None, 10)                1290      \n",
            "                                                                 \n",
            "=================================================================\n",
            "Total params: 552,874\n",
            "Trainable params: 551,722\n",
            "Non-trainable params: 1,152\n",
            "_________________________________________________________________\n"
          ]
        }
      ],
      "source": [
        "# Creating a sequential model and adding layers to it\n",
        "model = Sequential()\n",
        "\n",
        "model.add(Conv2D(32, (3,3), padding='same', activation='relu', input_shape=(32,32,3)))\n",
        "model.add(BatchNormalization())\n",
        "model.add(Conv2D(32, (3,3), padding='same', activation='relu'))\n",
        "model.add(BatchNormalization())\n",
        "model.add(MaxPooling2D(pool_size=(2,2)))\n",
        "model.add(Dropout(0.3))\n",
        "\n",
        "model.add(Conv2D(64, (3,3), padding='same', activation='relu'))\n",
        "model.add(BatchNormalization())\n",
        "model.add(Conv2D(64, (3,3), padding='same', activation='relu'))\n",
        "model.add(BatchNormalization())\n",
        "model.add(MaxPooling2D(pool_size=(2,2)))\n",
        "model.add(Dropout(0.5))\n",
        "\n",
        "model.add(Conv2D(128, (3,3), padding='same', activation='relu'))\n",
        "model.add(BatchNormalization())\n",
        "model.add(Conv2D(128, (3,3), padding='same', activation='relu'))\n",
        "model.add(BatchNormalization())\n",
        "model.add(MaxPooling2D(pool_size=(2,2)))\n",
        "model.add(Dropout(0.5))\n",
        "\n",
        "model.add(Flatten())\n",
        "model.add(Dense(128, activation='relu'))\n",
        "model.add(BatchNormalization())\n",
        "model.add(Dropout(0.5))\n",
        "model.add(Dense(num_classes, activation='softmax'))    # num_classes = 10\n",
        "\n",
        "# Checking the model summary\n",
        "model.summary()"
      ]
    },
    {
      "cell_type": "code",
      "execution_count": null,
      "metadata": {
        "id": "RKd4q7Jslifs"
      },
      "outputs": [],
      "source": [
        "# Compile the model\n",
        "model.compile(optimizer='adam', loss='categorical_crossentropy', metrics=['accuracy'])"
      ]
    },
    {
      "cell_type": "code",
      "execution_count": null,
      "metadata": {
        "id": "LNFTgm3Wlift",
        "outputId": "140b93ff-fcef-4c07-988f-ef1413b598d1"
      },
      "outputs": [
        {
          "name": "stdout",
          "output_type": "stream",
          "text": [
            "Epoch 1/30\n",
            "1125/1125 [==============================] - 165s 145ms/step - loss: 1.8326 - accuracy: 0.3503 - val_loss: 1.4505 - val_accuracy: 0.4703\n",
            "Epoch 2/30\n",
            "1125/1125 [==============================] - 165s 147ms/step - loss: 1.4027 - accuracy: 0.4877 - val_loss: 1.2117 - val_accuracy: 0.5634\n",
            "Epoch 3/30\n",
            "1125/1125 [==============================] - 190s 168ms/step - loss: 1.2729 - accuracy: 0.5391 - val_loss: 1.1335 - val_accuracy: 0.5892\n",
            "Epoch 4/30\n",
            "1125/1125 [==============================] - 179s 159ms/step - loss: 1.1983 - accuracy: 0.5677 - val_loss: 1.0721 - val_accuracy: 0.6111\n",
            "Epoch 5/30\n",
            "1125/1125 [==============================] - 173s 154ms/step - loss: 1.1428 - accuracy: 0.5909 - val_loss: 1.0127 - val_accuracy: 0.6339\n",
            "Epoch 6/30\n",
            "1125/1125 [==============================] - 170s 151ms/step - loss: 1.0924 - accuracy: 0.6131 - val_loss: 0.9672 - val_accuracy: 0.6522\n",
            "Epoch 7/30\n",
            "1125/1125 [==============================] - 177s 158ms/step - loss: 1.0538 - accuracy: 0.6258 - val_loss: 0.9433 - val_accuracy: 0.6596\n",
            "Epoch 8/30\n",
            "1125/1125 [==============================] - 176s 156ms/step - loss: 1.0235 - accuracy: 0.6379 - val_loss: 1.0332 - val_accuracy: 0.6398\n",
            "Epoch 9/30\n",
            "1125/1125 [==============================] - 169s 151ms/step - loss: 0.9976 - accuracy: 0.6455 - val_loss: 0.9048 - val_accuracy: 0.6751\n",
            "Epoch 10/30\n",
            "1125/1125 [==============================] - 176s 157ms/step - loss: 0.9747 - accuracy: 0.6543 - val_loss: 0.8915 - val_accuracy: 0.6799\n",
            "Epoch 11/30\n",
            "1125/1125 [==============================] - 172s 153ms/step - loss: 0.9536 - accuracy: 0.6629 - val_loss: 0.8646 - val_accuracy: 0.6898\n",
            "Epoch 12/30\n",
            "1125/1125 [==============================] - 168s 149ms/step - loss: 0.9316 - accuracy: 0.6724 - val_loss: 0.8742 - val_accuracy: 0.6871\n",
            "Epoch 13/30\n",
            "1125/1125 [==============================] - 171s 152ms/step - loss: 0.9133 - accuracy: 0.6759 - val_loss: 0.8565 - val_accuracy: 0.6937\n",
            "Epoch 14/30\n",
            "1125/1125 [==============================] - 165s 146ms/step - loss: 0.9009 - accuracy: 0.6804 - val_loss: 0.8276 - val_accuracy: 0.7009\n",
            "Epoch 15/30\n",
            "1125/1125 [==============================] - 172s 153ms/step - loss: 0.8880 - accuracy: 0.6845 - val_loss: 0.8447 - val_accuracy: 0.7013\n",
            "Epoch 16/30\n",
            "1125/1125 [==============================] - 172s 152ms/step - loss: 0.8767 - accuracy: 0.6918 - val_loss: 0.8155 - val_accuracy: 0.7103\n",
            "Epoch 17/30\n",
            "1125/1125 [==============================] - 174s 154ms/step - loss: 0.8615 - accuracy: 0.6954 - val_loss: 0.7952 - val_accuracy: 0.7138\n",
            "Epoch 18/30\n",
            "1125/1125 [==============================] - 171s 152ms/step - loss: 0.8526 - accuracy: 0.6977 - val_loss: 0.8360 - val_accuracy: 0.7026\n",
            "Epoch 19/30\n",
            "1125/1125 [==============================] - 171s 152ms/step - loss: 0.8432 - accuracy: 0.7028 - val_loss: 0.7928 - val_accuracy: 0.7187\n",
            "Epoch 20/30\n",
            "1125/1125 [==============================] - 170s 151ms/step - loss: 0.8330 - accuracy: 0.7041 - val_loss: 0.7817 - val_accuracy: 0.7182\n",
            "Epoch 21/30\n",
            "1125/1125 [==============================] - 173s 153ms/step - loss: 0.8241 - accuracy: 0.7070 - val_loss: 0.7824 - val_accuracy: 0.7209\n",
            "Epoch 22/30\n",
            "1125/1125 [==============================] - 169s 150ms/step - loss: 0.8123 - accuracy: 0.7128 - val_loss: 0.7899 - val_accuracy: 0.7153\n",
            "Epoch 23/30\n",
            "1125/1125 [==============================] - 175s 156ms/step - loss: 0.8055 - accuracy: 0.7157 - val_loss: 0.7916 - val_accuracy: 0.7174\n",
            "Epoch 24/30\n",
            "1125/1125 [==============================] - 172s 153ms/step - loss: 0.8015 - accuracy: 0.7160 - val_loss: 0.7829 - val_accuracy: 0.7233\n",
            "Epoch 25/30\n",
            "1125/1125 [==============================] - 169s 150ms/step - loss: 0.7912 - accuracy: 0.7194 - val_loss: 0.7777 - val_accuracy: 0.7238\n",
            "Epoch 26/30\n",
            "1125/1125 [==============================] - 164s 146ms/step - loss: 0.7894 - accuracy: 0.7205 - val_loss: 0.7564 - val_accuracy: 0.7292\n",
            "Epoch 27/30\n",
            "1125/1125 [==============================] - 169s 150ms/step - loss: 0.7799 - accuracy: 0.7236 - val_loss: 0.7693 - val_accuracy: 0.7265\n",
            "Epoch 28/30\n",
            "1125/1125 [==============================] - 168s 150ms/step - loss: 0.7730 - accuracy: 0.7277 - val_loss: 0.7641 - val_accuracy: 0.7254\n",
            "Epoch 29/30\n",
            "1125/1125 [==============================] - 167s 149ms/step - loss: 0.7695 - accuracy: 0.7259 - val_loss: 0.7695 - val_accuracy: 0.7268\n",
            "Epoch 30/30\n",
            "1125/1125 [==============================] - 171s 152ms/step - loss: 0.7642 - accuracy: 0.7307 - val_loss: 0.7600 - val_accuracy: 0.7301\n"
          ]
        }
      ],
      "source": [
        "# Train the model\n",
        "history = model.fit(X_train, y_train, batch_size=64, epochs=30, validation_data=(X_validation, y_validation))"
      ]
    },
    {
      "cell_type": "code",
      "execution_count": null,
      "metadata": {
        "id": "To3cUH6Ilift"
      },
      "outputs": [],
      "source": [
        "# Save the trained model\n",
        "model.save('CNN-Model.keras')"
      ]
    },
    {
      "cell_type": "code",
      "execution_count": null,
      "metadata": {
        "id": "2MDVrQMilifu",
        "outputId": "bcd63ec9-5745-4169-a6de-64e6f3226ad3"
      },
      "outputs": [
        {
          "name": "stdout",
          "output_type": "stream",
          "text": [
            "563/563 [==============================] - 12s 20ms/step - loss: 0.7600 - accuracy: 0.7301\n",
            "Test Loss: 0.7600\n",
            "Test Accuracy: 0.7301\n"
          ]
        }
      ],
      "source": [
        "loss, accuracy = model.evaluate(X_validation, y_validation)\n",
        "\n",
        "# Print the evaluation results\n",
        "print(f'Test Loss: {loss:.4f}')\n",
        "print(f'Test Accuracy: {accuracy:.4f}')"
      ]
    },
    {
      "cell_type": "code",
      "execution_count": null,
      "metadata": {
        "id": "4V-7wY2Clifv"
      },
      "outputs": [],
      "source": [
        "test_images_folder = 'Kaggle_test_images'  # Path to the folder containing test images\n",
        "target_size = (32, 32)  # Target size for resizing"
      ]
    },
    {
      "cell_type": "code",
      "execution_count": null,
      "metadata": {
        "id": "JcWXTHtUlifw"
      },
      "outputs": [],
      "source": [
        "# Prepare lists to store test images and their IDs\n",
        "test_images = []\n",
        "test_image_ids = []"
      ]
    },
    {
      "cell_type": "code",
      "execution_count": null,
      "metadata": {
        "id": "mzOedJkAlifx"
      },
      "outputs": [],
      "source": [
        "# Process each image in the test folder\n",
        "for image_file in os.listdir(test_images_folder):\n",
        "    image_path = os.path.join(test_images_folder, image_file)\n",
        "\n",
        "    # Load and preprocess the image using PIL\n",
        "    img = Image.open(image_path).convert('RGB')\n",
        "    img = img.resize(target_size)\n",
        "\n",
        "    test_images.append(img)\n",
        "    test_image_ids.append(image_file)"
      ]
    },
    {
      "cell_type": "code",
      "execution_count": null,
      "metadata": {
        "id": "LxnUJRGOlifz"
      },
      "outputs": [],
      "source": [
        "# Convert to numpy array\n",
        "test_images = np.array(test_images)\n",
        "test_images = test_images - mean_value"
      ]
    },
    {
      "cell_type": "code",
      "execution_count": null,
      "metadata": {
        "id": "1RlNy_b4lif0",
        "outputId": "0c3a84f5-0470-45c6-bf6d-5d8b69cfa608"
      },
      "outputs": [
        {
          "name": "stdout",
          "output_type": "stream",
          "text": [
            "313/313 [==============================] - 6s 18ms/step\n"
          ]
        }
      ],
      "source": [
        "# Predict the labels for the test images\n",
        "predictions = model.predict(test_images)"
      ]
    },
    {
      "cell_type": "code",
      "execution_count": null,
      "metadata": {
        "id": "neRxnyLUlif2"
      },
      "outputs": [],
      "source": [
        "# Convert predictions from one-hot encoding to class labels\n",
        "predicted_labels = np.argmax(predictions, axis=1)"
      ]
    },
    {
      "cell_type": "code",
      "execution_count": null,
      "metadata": {
        "id": "3Vi0lF-flif3"
      },
      "outputs": [],
      "source": [
        "# Create a DataFrame\n",
        "df = pd.DataFrame({\n",
        "    'id': test_image_ids,\n",
        "    'label': predicted_labels\n",
        "})"
      ]
    },
    {
      "cell_type": "code",
      "execution_count": null,
      "metadata": {
        "id": "EXZJCPd0lif4"
      },
      "outputs": [],
      "source": [
        "# Save to CSV\n",
        "df.to_csv('F2021065198.csv', index=False)"
      ]
    },
    {
      "cell_type": "code",
      "execution_count": null,
      "metadata": {
        "id": "rINu7rsPlif4"
      },
      "outputs": [],
      "source": [
        "import matplotlib.pyplot as plt"
      ]
    },
    {
      "cell_type": "markdown",
      "source": [
        "##Visualizations"
      ],
      "metadata": {
        "id": "okwgKwailfmp"
      }
    },
    {
      "cell_type": "code",
      "execution_count": null,
      "metadata": {
        "id": "wNHV7qhFlif5",
        "outputId": "10addc11-d4bc-46b1-fc88-6c7bb2a58365"
      },
      "outputs": [
        {
          "data": {
            "image/png": "[encoded data removed]",
            "text/plain": [
              "<Figure size 1000x600 with 1 Axes>"
            ]
          },
          "metadata": {},
          "output_type": "display_data"
        }
      ],
      "source": [
        "# Plot training and validation accuracy\n",
        "plt.figure(figsize=(10, 6))\n",
        "plt.plot(history.history['accuracy'], label='Training Accuracy')\n",
        "plt.plot(history.history['val_accuracy'], label='Validation Accuracy')\n",
        "plt.title('Training and Validation Accuracy')\n",
        "plt.xlabel('Epoch')\n",
        "plt.ylabel('Accuracy')\n",
        "plt.legend()\n",
        "plt.grid(True)\n",
        "plt.show()"
      ]
    },
    {
      "cell_type": "code",
      "execution_count": null,
      "metadata": {
        "id": "ngYan5QZlif6",
        "outputId": "fcdc25cb-7980-4b16-c4d4-facf31253ccb"
      },
      "outputs": [
        {
          "data": {
            "image/png": "[encoded data removed]",
            "text/plain": [
              "<Figure size 1000x600 with 1 Axes>"
            ]
          },
          "metadata": {},
          "output_type": "display_data"
        }
      ],
      "source": [
        "# Plot training and validation loss\n",
        "plt.figure(figsize=(10, 6))\n",
        "plt.plot(history.history['loss'], label='Training Loss')\n",
        "plt.plot(history.history['val_loss'], label='Validation Loss')\n",
        "plt.title('Training and Validation Loss')\n",
        "plt.xlabel('Epoch')\n",
        "plt.ylabel('Loss')\n",
        "plt.legend()\n",
        "plt.grid(True)\n",
        "plt.show()"
      ]
    },
    {
      "cell_type": "code",
      "execution_count": null,
      "metadata": {
        "id": "agPvgwhelif8",
        "outputId": "fca06e61-e770-42f8-d835-c3e2cf046a9f"
      },
      "outputs": [
        {
          "name": "stdout",
          "output_type": "stream",
          "text": [
            "Epoch 1/10\n",
            "1125/1125 [==============================] - 168s 149ms/step - loss: 0.7584 - accuracy: 0.7325 - val_loss: 0.7521 - val_accuracy: 0.7315\n",
            "Epoch 2/10\n",
            "1125/1125 [==============================] - 178s 158ms/step - loss: 0.7523 - accuracy: 0.7328 - val_loss: 0.7408 - val_accuracy: 0.7396\n",
            "Epoch 3/10\n",
            "1125/1125 [==============================] - 174s 155ms/step - loss: 0.7479 - accuracy: 0.7339 - val_loss: 0.7711 - val_accuracy: 0.7261\n",
            "Epoch 4/10\n",
            "1125/1125 [==============================] - 170s 151ms/step - loss: 0.7463 - accuracy: 0.7361 - val_loss: 0.7512 - val_accuracy: 0.7376\n",
            "Epoch 5/10\n",
            "1125/1125 [==============================] - 175s 156ms/step - loss: 0.7413 - accuracy: 0.7386 - val_loss: 0.7493 - val_accuracy: 0.7389\n",
            "Epoch 6/10\n",
            "1125/1125 [==============================] - 176s 157ms/step - loss: 0.7366 - accuracy: 0.7388 - val_loss: 0.7295 - val_accuracy: 0.7442\n",
            "Epoch 7/10\n",
            "1125/1125 [==============================] - 170s 151ms/step - loss: 0.7319 - accuracy: 0.7401 - val_loss: 0.7334 - val_accuracy: 0.7414\n",
            "Epoch 8/10\n",
            "1125/1125 [==============================] - 168s 150ms/step - loss: 0.7266 - accuracy: 0.7433 - val_loss: 0.7437 - val_accuracy: 0.7394\n",
            "Epoch 9/10\n",
            "1125/1125 [==============================] - 173s 154ms/step - loss: 0.7220 - accuracy: 0.7450 - val_loss: 0.7342 - val_accuracy: 0.7412\n",
            "Epoch 10/10\n",
            "1125/1125 [==============================] - 174s 155ms/step - loss: 0.7220 - accuracy: 0.7449 - val_loss: 0.7364 - val_accuracy: 0.7413\n"
          ]
        }
      ],
      "source": [
        "# Train the model\n",
        "history = model.fit(X_train, y_train, batch_size=64, epochs=10, validation_data=(X_validation, y_validation))"
      ]
    },
    {
      "cell_type": "code",
      "execution_count": null,
      "metadata": {
        "id": "gYrBxII2lif9"
      },
      "outputs": [],
      "source": [
        "# Save the trained model\n",
        "model.save('CNN-Model-1.keras')"
      ]
    },
    {
      "cell_type": "code",
      "execution_count": null,
      "metadata": {
        "id": "yi-7Iucslif-",
        "outputId": "0bf5a629-a915-4ff3-c64c-42f3242c5f09"
      },
      "outputs": [
        {
          "name": "stdout",
          "output_type": "stream",
          "text": [
            "563/563 [==============================] - 15s 26ms/step - loss: 0.7364 - accuracy: 0.7413\n",
            "Test Loss: 0.7364\n",
            "Test Accuracy: 0.7413\n"
          ]
        }
      ],
      "source": [
        "loss, accuracy = model.evaluate(X_validation, y_validation)\n",
        "\n",
        "# Print the evaluation results\n",
        "print(f'Test Loss: {loss:.4f}')\n",
        "print(f'Test Accuracy: {accuracy:.4f}')"
      ]
    },
    {
      "cell_type": "markdown",
      "source": [
        "## Loading and Processing Test Dataset"
      ],
      "metadata": {
        "id": "dl7IDxwJlrQK"
      }
    },
    {
      "cell_type": "code",
      "execution_count": null,
      "metadata": {
        "id": "D8akbYC0lif_"
      },
      "outputs": [],
      "source": [
        "test_images_folder = 'Kaggle_test_images'  # Path to the folder containing test images\n",
        "target_size = (32, 32)  # Target size for resizing"
      ]
    },
    {
      "cell_type": "code",
      "execution_count": null,
      "metadata": {
        "id": "AxhKypg1ligA"
      },
      "outputs": [],
      "source": [
        "# Prepare lists to store test images and their IDs\n",
        "test_images = []\n",
        "test_image_ids = []"
      ]
    },
    {
      "cell_type": "code",
      "execution_count": null,
      "metadata": {
        "id": "lmenhgqEligB"
      },
      "outputs": [],
      "source": [
        "# Process each image in the test folder\n",
        "for image_file in os.listdir(test_images_folder):\n",
        "    image_path = os.path.join(test_images_folder, image_file)\n",
        "\n",
        "    # Load and preprocess the image using PIL\n",
        "    img = Image.open(image_path).convert('RGB')\n",
        "    img = img.resize(target_size)\n",
        "\n",
        "    test_images.append(img)\n",
        "    test_image_ids.append(image_file)"
      ]
    },
    {
      "cell_type": "code",
      "execution_count": null,
      "metadata": {
        "id": "XWcpihqsligC"
      },
      "outputs": [],
      "source": [
        "# Convert to numpy array\n",
        "test_images = np.array(test_images)\n",
        "test_images = test_images - mean_value"
      ]
    },
    {
      "cell_type": "code",
      "execution_count": null,
      "metadata": {
        "id": "5yB4pW0JligD",
        "outputId": "77d4695d-5d26-4a65-dae2-cd930f054b79"
      },
      "outputs": [
        {
          "name": "stdout",
          "output_type": "stream",
          "text": [
            "313/313 [==============================] - 8s 26ms/step\n"
          ]
        }
      ],
      "source": [
        "# Predict the labels for the test images\n",
        "predictions = model.predict(test_images)"
      ]
    },
    {
      "cell_type": "code",
      "execution_count": null,
      "metadata": {
        "id": "8TN6Zc9PligE"
      },
      "outputs": [],
      "source": [
        "# Convert predictions from one-hot encoding to class labels\n",
        "predicted_labels = np.argmax(predictions, axis=1)"
      ]
    },
    {
      "cell_type": "code",
      "execution_count": null,
      "metadata": {
        "id": "O61Zx5A1ligE"
      },
      "outputs": [],
      "source": [
        "# Create a DataFrame\n",
        "df = pd.DataFrame({\n",
        "    'id': test_image_ids,\n",
        "    'label': predicted_labels\n",
        "})"
      ]
    },
    {
      "cell_type": "code",
      "execution_count": null,
      "metadata": {
        "id": "CtW00RzRligF"
      },
      "outputs": [],
      "source": [
        "# Save to CSV\n",
        "df.to_csv('F2021065198.csv', index=False)"
      ]
    },
    {
      "cell_type": "code",
      "execution_count": null,
      "metadata": {
        "id": "IW6D2IyEligF",
        "outputId": "bdf4a67e-36b4-4399-a1f7-8c954fce7206"
      },
      "outputs": [
        {
          "name": "stdout",
          "output_type": "stream",
          "text": [
            "Epoch 1/5\n",
            "563/563 [==============================] - 164s 291ms/step - loss: 0.6169 - accuracy: 0.7799 - val_loss: 0.7039 - val_accuracy: 0.7543\n",
            "Epoch 2/5\n",
            "563/563 [==============================] - 167s 297ms/step - loss: 0.6088 - accuracy: 0.7827 - val_loss: 0.7144 - val_accuracy: 0.7541\n",
            "Epoch 3/5\n",
            "563/563 [==============================] - 176s 313ms/step - loss: 0.6159 - accuracy: 0.7797 - val_loss: 0.7119 - val_accuracy: 0.7557\n",
            "Epoch 4/5\n",
            "563/563 [==============================] - 193s 344ms/step - loss: 0.6132 - accuracy: 0.7813 - val_loss: 0.7112 - val_accuracy: 0.7570\n",
            "Epoch 5/5\n",
            "563/563 [==============================] - 194s 345ms/step - loss: 0.6100 - accuracy: 0.7817 - val_loss: 0.7104 - val_accuracy: 0.7511\n"
          ]
        }
      ],
      "source": [
        "# Train the model\n",
        "history_1 = model.fit(X_train, y_train, batch_size=128, epochs=5, validation_data=(X_validation, y_validation))"
      ]
    },
    {
      "cell_type": "code",
      "execution_count": null,
      "metadata": {
        "id": "cMyS0tpclige"
      },
      "outputs": [],
      "source": [
        "# Save the trained model\n",
        "model.save('CNN-Model-4.keras')"
      ]
    },
    {
      "cell_type": "code",
      "execution_count": null,
      "metadata": {
        "id": "HUMuPmTYlige",
        "outputId": "26452f7d-c68f-4f63-eb6e-b00038575754"
      },
      "outputs": [
        {
          "name": "stdout",
          "output_type": "stream",
          "text": [
            "563/563 [==============================] - 14s 26ms/step - loss: 0.7104 - accuracy: 0.7511\n",
            "Test Loss: 0.7104\n",
            "Test Accuracy: 0.7511\n"
          ]
        }
      ],
      "source": [
        "loss, accuracy = model.evaluate(X_validation, y_validation)\n",
        "\n",
        "# Print the evaluation results\n",
        "print(f'Test Loss: {loss:.4f}')\n",
        "print(f'Test Accuracy: {accuracy:.4f}')"
      ]
    },
    {
      "cell_type": "code",
      "execution_count": null,
      "metadata": {
        "id": "Go-WEFMjlige",
        "outputId": "ac9ddbad-081d-415d-e2a7-6c69614a6a6d"
      },
      "outputs": [
        {
          "name": "stdout",
          "output_type": "stream",
          "text": [
            "313/313 [==============================] - 9s 27ms/step\n"
          ]
        }
      ],
      "source": [
        "# Predict the labels for the test images\n",
        "predictions = model.predict(test_images)"
      ]
    },
    {
      "cell_type": "code",
      "execution_count": null,
      "metadata": {
        "id": "7P34zifPligf"
      },
      "outputs": [],
      "source": [
        "# Convert predictions from one-hot encoding to class labels\n",
        "predicted_labels = np.argmax(predictions, axis=1)"
      ]
    },
    {
      "cell_type": "code",
      "execution_count": null,
      "metadata": {
        "id": "ZshcjihNligf"
      },
      "outputs": [],
      "source": [
        "# Create a DataFrame\n",
        "df = pd.DataFrame({\n",
        "    'id': test_image_ids,\n",
        "    'label': predicted_labels\n",
        "})"
      ]
    },
    {
      "cell_type": "code",
      "execution_count": null,
      "metadata": {
        "id": "fD1UYt8iligf"
      },
      "outputs": [],
      "source": [
        "# Save to CSV\n",
        "df.to_csv('F2021065198.csv', index=False)"
      ]
    }
  ],
  "metadata": {
    "kernelspec": {
      "display_name": "CV",
      "language": "python",
      "name": "python3"
    },
    "language_info": {
      "codemirror_mode": {
        "name": "ipython",
        "version": 3
      },
      "file_extension": ".py",
      "mimetype": "text/x-python",
      "name": "python",
      "nbconvert_exporter": "python",
      "pygments_lexer": "ipython3",
      "version": "3.10.13"
    },
    "colab": {
      "provenance": []
    }
  },
  "nbformat": 4,
  "nbformat_minor": 0
}