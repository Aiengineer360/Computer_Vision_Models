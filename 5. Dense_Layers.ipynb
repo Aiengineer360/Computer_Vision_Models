{
  "cells": [
    {
      "cell_type": "markdown",
      "source": [
        "##Importing Libraries"
      ],
      "metadata": {
        "id": "8g1R6hSg2en6"
      }
    },
    {
      "cell_type": "code",
      "execution_count": null,
      "metadata": {
        "id": "573fnSrdLBbE"
      },
      "outputs": [],
      "source": [
        "import numpy as np\n",
        "import pandas as pd\n",
        "import math\n",
        "import matplotlib.pyplot as plt\n",
        "from sklearn.model_selection import train_test_split\n",
        "from sklearn.metrics import accuracy_score\n",
        "from keras.models import Sequential\n",
        "from keras.layers import Dense, Dropout, LeakyReLU, BatchNormalization, Flatten\n",
        "from keras.utils import to_categorical\n",
        "from keras.optimizers import Nadam\n",
        "from keras.callbacks import EarlyStopping, LearningRateScheduler\n",
        "from keras import regularizers\n",
        "from keras.initializers import HeNormal"
      ]
    },
    {
      "cell_type": "code",
      "source": [
        "tr = pd.read_csv('train.csv')"
      ],
      "metadata": {
        "id": "fmVWHD4D2BCv"
      },
      "execution_count": null,
      "outputs": []
    },
    {
      "cell_type": "markdown",
      "source": [
        "##Load Train Dataset"
      ],
      "metadata": {
        "id": "VE4xayoD2vN1"
      }
    },
    {
      "cell_type": "code",
      "source": [
        "def load_data():\n",
        "    x_train, x_val, y_train, y_val = train_test_split(\n",
        "        tr.drop('label', axis=1).values,\n",
        "        tr['label'].values,\n",
        "        random_state=31,\n",
        "        train_size=0.7,\n",
        "        shuffle=True,\n",
        "        stratify=tr['label'].values\n",
        "    )\n",
        "\n",
        "    return x_train, x_val, y_train, y_val\n",
        "\n",
        "x_train, x_val, y_train, y_val = load_data()"
      ],
      "metadata": {
        "id": "XOfai9AK2QC0"
      },
      "execution_count": null,
      "outputs": []
    },
    {
      "cell_type": "markdown",
      "source": [
        "##Preprocessing"
      ],
      "metadata": {
        "id": "oXCADk3n231n"
      }
    },
    {
      "cell_type": "code",
      "source": [
        "# Normalize with zero-mean and standardize by 255\n",
        "mean = np.mean(x_train, axis=0)\n",
        "x_train = (x_train - mean) / 255\n",
        "x_val = (x_val - mean) / 255"
      ],
      "metadata": {
        "id": "SZCmj_ULWcJW"
      },
      "execution_count": null,
      "outputs": []
    },
    {
      "cell_type": "markdown",
      "source": [
        "##One Hot Encoding"
      ],
      "metadata": {
        "id": "XdRQwQk32-tL"
      }
    },
    {
      "cell_type": "code",
      "source": [
        "y_train = to_categorical(y_train, 10)\n",
        "y_val = to_categorical(y_val, 10)"
      ],
      "metadata": {
        "id": "krfLNWACWnOp"
      },
      "execution_count": null,
      "outputs": []
    },
    {
      "cell_type": "markdown",
      "source": [
        "##Model"
      ],
      "metadata": {
        "id": "t8SZLHok3MP0"
      }
    },
    {
      "cell_type": "code",
      "source": [
        "def cosine_annealing(epoch, lr):\n",
        "    max_epochs = 50\n",
        "    return 0.0005 * (1 + math.cos(math.pi * epoch / max_epochs)) / 2\n",
        "\n",
        "callbacks = [\n",
        "    EarlyStopping(patience=8, restore_best_weights=True),\n",
        "    LearningRateScheduler(cosine_annealing)\n",
        "]"
      ],
      "metadata": {
        "id": "W_th-Hv3WvjL"
      },
      "execution_count": null,
      "outputs": []
    },
    {
      "cell_type": "code",
      "source": [
        "model = Sequential([\n",
        "    Dense(512, input_shape=(3072,), kernel_initializer=HeNormal(), kernel_regularizer=regularizers.l2(1e-4)),\n",
        "    LeakyReLU(alpha=0.01),\n",
        "\n",
        "    Dense(256, kernel_initializer=HeNormal(), kernel_regularizer=regularizers.l2(1e-4)),\n",
        "    LeakyReLU(alpha=0.01),\n",
        "\n",
        "    Dense(128, kernel_initializer=HeNormal(), kernel_regularizer=regularizers.l2(1e-4)),\n",
        "    LeakyReLU(alpha=0.01),\n",
        "\n",
        "    Dense(10, activation='softmax')\n",
        "])\n",
        "\n",
        "model.compile(optimizer=Nadam(learning_rate=0.0005),\n",
        "              loss='categorical_crossentropy',\n",
        "              metrics=['accuracy'])"
      ],
      "metadata": {
        "id": "pvUkJI26W82I"
      },
      "execution_count": null,
      "outputs": []
    },
    {
      "cell_type": "code",
      "source": [
        "history = model.fit(\n",
        "    x_train, y_train,\n",
        "    epochs=50,\n",
        "    batch_size=64,\n",
        "    validation_split=0.05,\n",
        "    callbacks=callbacks\n",
        ")"
      ],
      "metadata": {
        "colab": {
          "base_uri": "https://localhost:8080/"
        },
        "id": "vH0oahe5XDwU",
        "outputId": "f4d0120a-0899-4030-a272-b5e623ff5797"
      },
      "execution_count": null,
      "outputs": [
        {
          "output_type": "stream",
          "name": "stdout",
          "text": [
            "Epoch 1/50\n",
            "\u001b[1m375/375\u001b[0m \u001b[32m━━━━━━━━━━━━━━━━━━━━\u001b[0m\u001b[37m\u001b[0m \u001b[1m24s\u001b[0m 51ms/step - accuracy: 0.2324 - loss: 2.4050 - val_accuracy: 0.3794 - val_loss: 1.8970 - learning_rate: 5.0000e-04\n",
            "Epoch 2/50\n",
            "\u001b[1m375/375\u001b[0m \u001b[32m━━━━━━━━━━━━━━━━━━━━\u001b[0m\u001b[37m\u001b[0m \u001b[1m20s\u001b[0m 50ms/step - accuracy: 0.3343 - loss: 2.0438 - val_accuracy: 0.4254 - val_loss: 1.8078 - learning_rate: 4.9951e-04\n",
            "Epoch 3/50\n",
            "\u001b[1m375/375\u001b[0m \u001b[32m━━━━━━━━━━━━━━━━━━━━\u001b[0m\u001b[37m\u001b[0m \u001b[1m19s\u001b[0m 48ms/step - accuracy: 0.3756 - loss: 1.9241 - val_accuracy: 0.4325 - val_loss: 1.7542 - learning_rate: 4.9803e-04\n",
            "Epoch 4/50\n",
            "\u001b[1m375/375\u001b[0m \u001b[32m━━━━━━━━━━━━━━━━━━━━\u001b[0m\u001b[37m\u001b[0m \u001b[1m23s\u001b[0m 54ms/step - accuracy: 0.3986 - loss: 1.8588 - val_accuracy: 0.4437 - val_loss: 1.7084 - learning_rate: 4.9557e-04\n",
            "Epoch 5/50\n",
            "\u001b[1m375/375\u001b[0m \u001b[32m━━━━━━━━━━━━━━━━━━━━\u001b[0m\u001b[37m\u001b[0m \u001b[1m19s\u001b[0m 49ms/step - accuracy: 0.4152 - loss: 1.8054 - val_accuracy: 0.4563 - val_loss: 1.6745 - learning_rate: 4.9215e-04\n",
            "Epoch 6/50\n",
            "\u001b[1m375/375\u001b[0m \u001b[32m━━━━━━━━━━━━━━━━━━━━\u001b[0m\u001b[37m\u001b[0m \u001b[1m24s\u001b[0m 60ms/step - accuracy: 0.4331 - loss: 1.7692 - val_accuracy: 0.4603 - val_loss: 1.6545 - learning_rate: 4.8776e-04\n",
            "Epoch 7/50\n",
            "\u001b[1m375/375\u001b[0m \u001b[32m━━━━━━━━━━━━━━━━━━━━\u001b[0m\u001b[37m\u001b[0m \u001b[1m38s\u001b[0m 52ms/step - accuracy: 0.4389 - loss: 1.7417 - val_accuracy: 0.4651 - val_loss: 1.6389 - learning_rate: 4.8244e-04\n",
            "Epoch 8/50\n",
            "\u001b[1m375/375\u001b[0m \u001b[32m━━━━━━━━━━━━━━━━━━━━\u001b[0m\u001b[37m\u001b[0m \u001b[1m18s\u001b[0m 48ms/step - accuracy: 0.4519 - loss: 1.7106 - val_accuracy: 0.4683 - val_loss: 1.6299 - learning_rate: 4.7621e-04\n",
            "Epoch 9/50\n",
            "\u001b[1m375/375\u001b[0m \u001b[32m━━━━━━━━━━━━━━━━━━━━\u001b[0m\u001b[37m\u001b[0m \u001b[1m18s\u001b[0m 49ms/step - accuracy: 0.4624 - loss: 1.6827 - val_accuracy: 0.4698 - val_loss: 1.5941 - learning_rate: 4.6908e-04\n",
            "Epoch 10/50\n",
            "\u001b[1m375/375\u001b[0m \u001b[32m━━━━━━━━━━━━━━━━━━━━\u001b[0m\u001b[37m\u001b[0m \u001b[1m22s\u001b[0m 52ms/step - accuracy: 0.4779 - loss: 1.6522 - val_accuracy: 0.4706 - val_loss: 1.5910 - learning_rate: 4.6108e-04\n",
            "Epoch 11/50\n",
            "\u001b[1m375/375\u001b[0m \u001b[32m━━━━━━━━━━━━━━━━━━━━\u001b[0m\u001b[37m\u001b[0m \u001b[1m19s\u001b[0m 51ms/step - accuracy: 0.4726 - loss: 1.6445 - val_accuracy: 0.4802 - val_loss: 1.5770 - learning_rate: 4.5225e-04\n",
            "Epoch 12/50\n",
            "\u001b[1m375/375\u001b[0m \u001b[32m━━━━━━━━━━━━━━━━━━━━\u001b[0m\u001b[37m\u001b[0m \u001b[1m17s\u001b[0m 45ms/step - accuracy: 0.4899 - loss: 1.6047 - val_accuracy: 0.4817 - val_loss: 1.5722 - learning_rate: 4.4263e-04\n",
            "Epoch 13/50\n",
            "\u001b[1m375/375\u001b[0m \u001b[32m━━━━━━━━━━━━━━━━━━━━\u001b[0m\u001b[37m\u001b[0m \u001b[1m20s\u001b[0m 55ms/step - accuracy: 0.4972 - loss: 1.5699 - val_accuracy: 0.4976 - val_loss: 1.5563 - learning_rate: 4.3224e-04\n",
            "Epoch 14/50\n",
            "\u001b[1m375/375\u001b[0m \u001b[32m━━━━━━━━━━━━━━━━━━━━\u001b[0m\u001b[37m\u001b[0m \u001b[1m18s\u001b[0m 48ms/step - accuracy: 0.5013 - loss: 1.5625 - val_accuracy: 0.4873 - val_loss: 1.5557 - learning_rate: 4.2114e-04\n",
            "Epoch 15/50\n",
            "\u001b[1m375/375\u001b[0m \u001b[32m━━━━━━━━━━━━━━━━━━━━\u001b[0m\u001b[37m\u001b[0m \u001b[1m18s\u001b[0m 47ms/step - accuracy: 0.5027 - loss: 1.5634 - val_accuracy: 0.4968 - val_loss: 1.5481 - learning_rate: 4.0936e-04\n",
            "Epoch 16/50\n",
            "\u001b[1m375/375\u001b[0m \u001b[32m━━━━━━━━━━━━━━━━━━━━\u001b[0m\u001b[37m\u001b[0m \u001b[1m19s\u001b[0m 51ms/step - accuracy: 0.5113 - loss: 1.5337 - val_accuracy: 0.5040 - val_loss: 1.5356 - learning_rate: 3.9695e-04\n",
            "Epoch 17/50\n",
            "\u001b[1m375/375\u001b[0m \u001b[32m━━━━━━━━━━━━━━━━━━━━\u001b[0m\u001b[37m\u001b[0m \u001b[1m19s\u001b[0m 49ms/step - accuracy: 0.5201 - loss: 1.5256 - val_accuracy: 0.5119 - val_loss: 1.5192 - learning_rate: 3.8396e-04\n",
            "Epoch 18/50\n",
            "\u001b[1m375/375\u001b[0m \u001b[32m━━━━━━━━━━━━━━━━━━━━\u001b[0m\u001b[37m\u001b[0m \u001b[1m21s\u001b[0m 49ms/step - accuracy: 0.5325 - loss: 1.4832 - val_accuracy: 0.5246 - val_loss: 1.5121 - learning_rate: 3.7044e-04\n",
            "Epoch 19/50\n",
            "\u001b[1m375/375\u001b[0m \u001b[32m━━━━━━━━━━━━━━━━━━━━\u001b[0m\u001b[37m\u001b[0m \u001b[1m20s\u001b[0m 48ms/step - accuracy: 0.5317 - loss: 1.4771 - val_accuracy: 0.5087 - val_loss: 1.5176 - learning_rate: 3.5644e-04\n",
            "Epoch 20/50\n",
            "\u001b[1m375/375\u001b[0m \u001b[32m━━━━━━━━━━━━━━━━━━━━\u001b[0m\u001b[37m\u001b[0m \u001b[1m20s\u001b[0m 47ms/step - accuracy: 0.5371 - loss: 1.4682 - val_accuracy: 0.5151 - val_loss: 1.5200 - learning_rate: 3.4203e-04\n",
            "Epoch 21/50\n",
            "\u001b[1m375/375\u001b[0m \u001b[32m━━━━━━━━━━━━━━━━━━━━\u001b[0m\u001b[37m\u001b[0m \u001b[1m20s\u001b[0m 47ms/step - accuracy: 0.5474 - loss: 1.4483 - val_accuracy: 0.5246 - val_loss: 1.4955 - learning_rate: 3.2725e-04\n",
            "Epoch 22/50\n",
            "\u001b[1m375/375\u001b[0m \u001b[32m━━━━━━━━━━━━━━━━━━━━\u001b[0m\u001b[37m\u001b[0m \u001b[1m23s\u001b[0m 53ms/step - accuracy: 0.5472 - loss: 1.4156 - val_accuracy: 0.5254 - val_loss: 1.5152 - learning_rate: 3.1217e-04\n",
            "Epoch 23/50\n",
            "\u001b[1m375/375\u001b[0m \u001b[32m━━━━━━━━━━━━━━━━━━━━\u001b[0m\u001b[37m\u001b[0m \u001b[1m19s\u001b[0m 48ms/step - accuracy: 0.5549 - loss: 1.4092 - val_accuracy: 0.5262 - val_loss: 1.5126 - learning_rate: 2.9685e-04\n",
            "Epoch 24/50\n",
            "\u001b[1m375/375\u001b[0m \u001b[32m━━━━━━━━━━━━━━━━━━━━\u001b[0m\u001b[37m\u001b[0m \u001b[1m20s\u001b[0m 47ms/step - accuracy: 0.5640 - loss: 1.3763 - val_accuracy: 0.5254 - val_loss: 1.5013 - learning_rate: 2.8133e-04\n",
            "Epoch 25/50\n",
            "\u001b[1m375/375\u001b[0m \u001b[32m━━━━━━━━━━━━━━━━━━━━\u001b[0m\u001b[37m\u001b[0m \u001b[1m18s\u001b[0m 49ms/step - accuracy: 0.5719 - loss: 1.3636 - val_accuracy: 0.5341 - val_loss: 1.4889 - learning_rate: 2.6570e-04\n",
            "Epoch 26/50\n",
            "\u001b[1m375/375\u001b[0m \u001b[32m━━━━━━━━━━━━━━━━━━━━\u001b[0m\u001b[37m\u001b[0m \u001b[1m21s\u001b[0m 49ms/step - accuracy: 0.5768 - loss: 1.3560 - val_accuracy: 0.5278 - val_loss: 1.4995 - learning_rate: 2.5000e-04\n",
            "Epoch 27/50\n",
            "\u001b[1m375/375\u001b[0m \u001b[32m━━━━━━━━━━━━━━━━━━━━\u001b[0m\u001b[37m\u001b[0m \u001b[1m23s\u001b[0m 55ms/step - accuracy: 0.5878 - loss: 1.3339 - val_accuracy: 0.5222 - val_loss: 1.5018 - learning_rate: 2.3430e-04\n",
            "Epoch 28/50\n",
            "\u001b[1m375/375\u001b[0m \u001b[32m━━━━━━━━━━━━━━━━━━━━\u001b[0m\u001b[37m\u001b[0m \u001b[1m43s\u001b[0m 61ms/step - accuracy: 0.5953 - loss: 1.2976 - val_accuracy: 0.5444 - val_loss: 1.4823 - learning_rate: 2.1867e-04\n",
            "Epoch 29/50\n",
            "\u001b[1m375/375\u001b[0m \u001b[32m━━━━━━━━━━━━━━━━━━━━\u001b[0m\u001b[37m\u001b[0m \u001b[1m21s\u001b[0m 56ms/step - accuracy: 0.5950 - loss: 1.2984 - val_accuracy: 0.5365 - val_loss: 1.4894 - learning_rate: 2.0315e-04\n",
            "Epoch 30/50\n",
            "\u001b[1m375/375\u001b[0m \u001b[32m━━━━━━━━━━━━━━━━━━━━\u001b[0m\u001b[37m\u001b[0m \u001b[1m42s\u001b[0m 59ms/step - accuracy: 0.6022 - loss: 1.2830 - val_accuracy: 0.5405 - val_loss: 1.4774 - learning_rate: 1.8783e-04\n",
            "Epoch 31/50\n",
            "\u001b[1m375/375\u001b[0m \u001b[32m━━━━━━━━━━━━━━━━━━━━\u001b[0m\u001b[37m\u001b[0m \u001b[1m40s\u001b[0m 56ms/step - accuracy: 0.6171 - loss: 1.2379 - val_accuracy: 0.5460 - val_loss: 1.4872 - learning_rate: 1.7275e-04\n",
            "Epoch 32/50\n",
            "\u001b[1m375/375\u001b[0m \u001b[32m━━━━━━━━━━━━━━━━━━━━\u001b[0m\u001b[37m\u001b[0m \u001b[1m41s\u001b[0m 56ms/step - accuracy: 0.6143 - loss: 1.2399 - val_accuracy: 0.5421 - val_loss: 1.4787 - learning_rate: 1.5797e-04\n",
            "Epoch 33/50\n",
            "\u001b[1m375/375\u001b[0m \u001b[32m━━━━━━━━━━━━━━━━━━━━\u001b[0m\u001b[37m\u001b[0m \u001b[1m41s\u001b[0m 55ms/step - accuracy: 0.6238 - loss: 1.2198 - val_accuracy: 0.5452 - val_loss: 1.4856 - learning_rate: 1.4356e-04\n",
            "Epoch 34/50\n",
            "\u001b[1m375/375\u001b[0m \u001b[32m━━━━━━━━━━━━━━━━━━━━\u001b[0m\u001b[37m\u001b[0m \u001b[1m42s\u001b[0m 58ms/step - accuracy: 0.6221 - loss: 1.2140 - val_accuracy: 0.5468 - val_loss: 1.4865 - learning_rate: 1.2956e-04\n",
            "Epoch 35/50\n",
            "\u001b[1m375/375\u001b[0m \u001b[32m━━━━━━━━━━━━━━━━━━━━\u001b[0m\u001b[37m\u001b[0m \u001b[1m40s\u001b[0m 55ms/step - accuracy: 0.6365 - loss: 1.1889 - val_accuracy: 0.5405 - val_loss: 1.4916 - learning_rate: 1.1604e-04\n",
            "Epoch 36/50\n",
            "\u001b[1m375/375\u001b[0m \u001b[32m━━━━━━━━━━━━━━━━━━━━\u001b[0m\u001b[37m\u001b[0m \u001b[1m42s\u001b[0m 59ms/step - accuracy: 0.6400 - loss: 1.1702 - val_accuracy: 0.5484 - val_loss: 1.4702 - learning_rate: 1.0305e-04\n",
            "Epoch 37/50\n",
            "\u001b[1m375/375\u001b[0m \u001b[32m━━━━━━━━━━━━━━━━━━━━\u001b[0m\u001b[37m\u001b[0m \u001b[1m41s\u001b[0m 59ms/step - accuracy: 0.6596 - loss: 1.1430 - val_accuracy: 0.5437 - val_loss: 1.4865 - learning_rate: 9.0644e-05\n",
            "Epoch 38/50\n",
            "\u001b[1m375/375\u001b[0m \u001b[32m━━━━━━━━━━━━━━━━━━━━\u001b[0m\u001b[37m\u001b[0m \u001b[1m22s\u001b[0m 58ms/step - accuracy: 0.6484 - loss: 1.1426 - val_accuracy: 0.5468 - val_loss: 1.4913 - learning_rate: 7.8863e-05\n",
            "Epoch 39/50\n",
            "\u001b[1m375/375\u001b[0m \u001b[32m━━━━━━━━━━━━━━━━━━━━\u001b[0m\u001b[37m\u001b[0m \u001b[1m39s\u001b[0m 52ms/step - accuracy: 0.6534 - loss: 1.1266 - val_accuracy: 0.5492 - val_loss: 1.4817 - learning_rate: 6.7758e-05\n",
            "Epoch 40/50\n",
            "\u001b[1m375/375\u001b[0m \u001b[32m━━━━━━━━━━━━━━━━━━━━\u001b[0m\u001b[37m\u001b[0m \u001b[1m22s\u001b[0m 58ms/step - accuracy: 0.6637 - loss: 1.1041 - val_accuracy: 0.5619 - val_loss: 1.4682 - learning_rate: 5.7372e-05\n",
            "Epoch 41/50\n",
            "\u001b[1m375/375\u001b[0m \u001b[32m━━━━━━━━━━━━━━━━━━━━\u001b[0m\u001b[37m\u001b[0m \u001b[1m41s\u001b[0m 58ms/step - accuracy: 0.6671 - loss: 1.0859 - val_accuracy: 0.5556 - val_loss: 1.4720 - learning_rate: 4.7746e-05\n",
            "Epoch 42/50\n",
            "\u001b[1m375/375\u001b[0m \u001b[32m━━━━━━━━━━━━━━━━━━━━\u001b[0m\u001b[37m\u001b[0m \u001b[1m41s\u001b[0m 57ms/step - accuracy: 0.6714 - loss: 1.0842 - val_accuracy: 0.5548 - val_loss: 1.4735 - learning_rate: 3.8918e-05\n",
            "Epoch 43/50\n",
            "\u001b[1m375/375\u001b[0m \u001b[32m━━━━━━━━━━━━━━━━━━━━\u001b[0m\u001b[37m\u001b[0m \u001b[1m42s\u001b[0m 59ms/step - accuracy: 0.6775 - loss: 1.0644 - val_accuracy: 0.5595 - val_loss: 1.4760 - learning_rate: 3.0923e-05\n",
            "Epoch 44/50\n",
            "\u001b[1m375/375\u001b[0m \u001b[32m━━━━━━━━━━━━━━━━━━━━\u001b[0m\u001b[37m\u001b[0m \u001b[1m19s\u001b[0m 51ms/step - accuracy: 0.6691 - loss: 1.0733 - val_accuracy: 0.5563 - val_loss: 1.4793 - learning_rate: 2.3793e-05\n",
            "Epoch 45/50\n",
            "\u001b[1m375/375\u001b[0m \u001b[32m━━━━━━━━━━━━━━━━━━━━\u001b[0m\u001b[37m\u001b[0m \u001b[1m23s\u001b[0m 61ms/step - accuracy: 0.6702 - loss: 1.0732 - val_accuracy: 0.5556 - val_loss: 1.4786 - learning_rate: 1.7556e-05\n",
            "Epoch 46/50\n",
            "\u001b[1m375/375\u001b[0m \u001b[32m━━━━━━━━━━━━━━━━━━━━\u001b[0m\u001b[37m\u001b[0m \u001b[1m40s\u001b[0m 60ms/step - accuracy: 0.6791 - loss: 1.0509 - val_accuracy: 0.5619 - val_loss: 1.4769 - learning_rate: 1.2236e-05\n",
            "Epoch 47/50\n",
            "\u001b[1m375/375\u001b[0m \u001b[32m━━━━━━━━━━━━━━━━━━━━\u001b[0m\u001b[37m\u001b[0m \u001b[1m39s\u001b[0m 56ms/step - accuracy: 0.6726 - loss: 1.0701 - val_accuracy: 0.5635 - val_loss: 1.4768 - learning_rate: 7.8542e-06\n",
            "Epoch 48/50\n",
            "\u001b[1m375/375\u001b[0m \u001b[32m━━━━━━━━━━━━━━━━━━━━\u001b[0m\u001b[37m\u001b[0m \u001b[1m20s\u001b[0m 54ms/step - accuracy: 0.6820 - loss: 1.0566 - val_accuracy: 0.5579 - val_loss: 1.4796 - learning_rate: 4.4282e-06\n"
          ]
        }
      ]
    },
    {
      "cell_type": "markdown",
      "source": [
        "##Validation"
      ],
      "metadata": {
        "id": "g-uHETc83TNY"
      }
    },
    {
      "cell_type": "code",
      "source": [
        "loss, accuracy = model.evaluate(x_val, y_val)\n",
        "print(\"Validation Accuracy:\", accuracy)"
      ],
      "metadata": {
        "colab": {
          "base_uri": "https://localhost:8080/"
        },
        "id": "GCzGxEV8cU6s",
        "outputId": "9ee329e0-813b-4d2e-d1a5-b1f1cda4db3a"
      },
      "execution_count": null,
      "outputs": [
        {
          "output_type": "stream",
          "name": "stdout",
          "text": [
            "\u001b[1m338/338\u001b[0m \u001b[32m━━━━━━━━━━━━━━━━━━━━\u001b[0m\u001b[37m\u001b[0m \u001b[1m3s\u001b[0m 10ms/step - accuracy: 0.5555 - loss: 1.4449\n",
            "Validation Accuracy: 0.556851863861084\n"
          ]
        }
      ]
    },
    {
      "cell_type": "markdown",
      "source": [
        "##Evaluation"
      ],
      "metadata": {
        "id": "0Z-7htma3W9s"
      }
    },
    {
      "cell_type": "code",
      "source": [
        "ts = pd.read_csv('test.csv')\n",
        "test = ts.iloc[:, 1:]\n",
        "index = ts.iloc[:, 0]\n",
        "test = (test - mean) / 255\n",
        "\n",
        "Pred_labels = model.predict(test)\n",
        "predicted_classes = np.argmax(Pred_labels, axis=1)\n",
        "df = pd.DataFrame({'id': index, 'label': predicted_classes})\n",
        "df.to_csv('AROOJ-198-A4.csv', index=False)"
      ],
      "metadata": {
        "colab": {
          "base_uri": "https://localhost:8080/"
        },
        "id": "q_-QVdspclTX",
        "outputId": "65697ac6-c26f-428e-f638-058d60713da3"
      },
      "execution_count": null,
      "outputs": [
        {
          "output_type": "stream",
          "name": "stdout",
          "text": [
            "\u001b[1m750/750\u001b[0m \u001b[32m━━━━━━━━━━━━━━━━━━━━\u001b[0m\u001b[37m\u001b[0m \u001b[1m6s\u001b[0m 8ms/step\n"
          ]
        }
      ]
    }
  ],
  "metadata": {
    "kernelspec": {
      "display_name": "cv",
      "language": "python",
      "name": "python3"
    },
    "language_info": {
      "codemirror_mode": {
        "name": "ipython",
        "version": 3
      },
      "file_extension": ".py",
      "mimetype": "text/x-python",
      "name": "python",
      "nbconvert_exporter": "python",
      "pygments_lexer": "ipython3",
      "version": "3.12.3"
    },
    "colab": {
      "provenance": []
    }
  },
  "nbformat": 4,
  "nbformat_minor": 0
}